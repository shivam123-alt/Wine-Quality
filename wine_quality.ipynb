{
 "cells": [
  {
   "cell_type": "markdown",
   "id": "12fbb68a",
   "metadata": {},
   "source": [
    "## Introduction"
   ]
  },
  {
   "cell_type": "markdown",
   "id": "ed81522c",
   "metadata": {},
   "source": [
    "The Jupyter notebook is part of your learning experience in the study of central tendency"
   ]
  },
  {
   "cell_type": "markdown",
   "id": "98d93ead",
   "metadata": {},
   "source": [
    "We will work with a simple data set that contains details of wine quality"
   ]
  },
  {
   "cell_type": "markdown",
   "id": "cb93df1b",
   "metadata": {},
   "source": [
    "In this exercise, we will perform the following tasks:"
   ]
  },
  {
   "cell_type": "markdown",
   "id": "f12cd3cc",
   "metadata": {},
   "source": [
    "1. Load and study the data"
   ]
  },
  {
   "cell_type": "markdown",
   "id": "05ee0b0d",
   "metadata": {},
   "source": [
    "2. View the distributions of the various features in the data set and calculate their central tendency"
   ]
  },
  {
   "cell_type": "markdown",
   "id": "4aa7c629",
   "metadata": {},
   "source": [
    "3. View a new Pandas Series that contains the details of the representative factor for quality"
   ]
  },
  {
   "cell_type": "markdown",
   "id": "2127c4ed",
   "metadata": {},
   "source": [
    "## Task 1 - Load and study the data"
   ]
  },
  {
   "cell_type": "markdown",
   "id": "7937eaa6",
   "metadata": {},
   "source": [
    "Load the data and study its featues such as:"
   ]
  },
  {
   "cell_type": "markdown",
   "id": "853710c6",
   "metadata": {},
   "source": [
    "- fixed acidity"
   ]
  },
  {
   "cell_type": "markdown",
   "id": "9b7d8752",
   "metadata": {},
   "source": [
    "- volatile acidity"
   ]
  },
  {
   "cell_type": "markdown",
   "id": "eaa9fe53",
   "metadata": {},
   "source": [
    "- citric acid etc"
   ]
  },
  {
   "cell_type": "code",
   "execution_count": 2,
   "id": "abe34fa4",
   "metadata": {},
   "outputs": [],
   "source": [
    "#Load \"numpy\" ans \"pandas\" for manipulating numbers and data frames\n",
    "# Load \"matplotlib.pyplot\" and \"seaborn\" for data visualisation\n",
    "\n",
    "import pandas as pd\n",
    "import numpy as np\n",
    "import matplotlib.pyplot as plt\n",
    "import seaborn as sns"
   ]
  },
  {
   "cell_type": "code",
   "execution_count": 3,
   "id": "f32d88c9",
   "metadata": {},
   "outputs": [],
   "source": [
    "# Read in the \"Wine Quality Dataset.csv\" file as a Pandas DataFrame\n",
    "\n",
    "data = pd.read_csv(\"Wine Quality Dataset.csv\")"
   ]
  },
  {
   "cell_type": "code",
   "execution_count": 4,
   "id": "a7a1e746",
   "metadata": {},
   "outputs": [
    {
     "data": {
      "text/html": [
       "<div>\n",
       "<style scoped>\n",
       "    .dataframe tbody tr th:only-of-type {\n",
       "        vertical-align: middle;\n",
       "    }\n",
       "\n",
       "    .dataframe tbody tr th {\n",
       "        vertical-align: top;\n",
       "    }\n",
       "\n",
       "    .dataframe thead th {\n",
       "        text-align: right;\n",
       "    }\n",
       "</style>\n",
       "<table border=\"1\" class=\"dataframe\">\n",
       "  <thead>\n",
       "    <tr style=\"text-align: right;\">\n",
       "      <th></th>\n",
       "      <th>fixed acidity</th>\n",
       "      <th>volatile acidity</th>\n",
       "      <th>citric acid</th>\n",
       "      <th>residual sugar</th>\n",
       "      <th>chlorides</th>\n",
       "      <th>free sulfur dioxide</th>\n",
       "      <th>total sulfur dioxide</th>\n",
       "      <th>density</th>\n",
       "      <th>pH</th>\n",
       "      <th>sulphates</th>\n",
       "      <th>alcohol</th>\n",
       "      <th>quality</th>\n",
       "    </tr>\n",
       "  </thead>\n",
       "  <tbody>\n",
       "    <tr>\n",
       "      <th>0</th>\n",
       "      <td>7.0</td>\n",
       "      <td>0.27</td>\n",
       "      <td>0.36</td>\n",
       "      <td>20.7</td>\n",
       "      <td>0.045</td>\n",
       "      <td>45.0</td>\n",
       "      <td>170.0</td>\n",
       "      <td>1.0010</td>\n",
       "      <td>3.00</td>\n",
       "      <td>0.45</td>\n",
       "      <td>8.8</td>\n",
       "      <td>6</td>\n",
       "    </tr>\n",
       "    <tr>\n",
       "      <th>1</th>\n",
       "      <td>6.3</td>\n",
       "      <td>0.30</td>\n",
       "      <td>0.34</td>\n",
       "      <td>1.6</td>\n",
       "      <td>0.049</td>\n",
       "      <td>14.0</td>\n",
       "      <td>132.0</td>\n",
       "      <td>0.9940</td>\n",
       "      <td>3.30</td>\n",
       "      <td>0.49</td>\n",
       "      <td>9.5</td>\n",
       "      <td>6</td>\n",
       "    </tr>\n",
       "    <tr>\n",
       "      <th>2</th>\n",
       "      <td>8.1</td>\n",
       "      <td>0.28</td>\n",
       "      <td>0.40</td>\n",
       "      <td>6.9</td>\n",
       "      <td>0.050</td>\n",
       "      <td>30.0</td>\n",
       "      <td>97.0</td>\n",
       "      <td>0.9951</td>\n",
       "      <td>3.26</td>\n",
       "      <td>0.44</td>\n",
       "      <td>10.1</td>\n",
       "      <td>6</td>\n",
       "    </tr>\n",
       "    <tr>\n",
       "      <th>3</th>\n",
       "      <td>7.2</td>\n",
       "      <td>0.23</td>\n",
       "      <td>0.32</td>\n",
       "      <td>8.5</td>\n",
       "      <td>0.058</td>\n",
       "      <td>47.0</td>\n",
       "      <td>186.0</td>\n",
       "      <td>0.9956</td>\n",
       "      <td>3.19</td>\n",
       "      <td>0.40</td>\n",
       "      <td>9.9</td>\n",
       "      <td>6</td>\n",
       "    </tr>\n",
       "    <tr>\n",
       "      <th>4</th>\n",
       "      <td>7.2</td>\n",
       "      <td>0.23</td>\n",
       "      <td>0.32</td>\n",
       "      <td>8.5</td>\n",
       "      <td>0.058</td>\n",
       "      <td>47.0</td>\n",
       "      <td>186.0</td>\n",
       "      <td>0.9956</td>\n",
       "      <td>3.19</td>\n",
       "      <td>0.40</td>\n",
       "      <td>9.9</td>\n",
       "      <td>6</td>\n",
       "    </tr>\n",
       "  </tbody>\n",
       "</table>\n",
       "</div>"
      ],
      "text/plain": [
       "   fixed acidity  volatile acidity  citric acid  residual sugar  chlorides  \\\n",
       "0            7.0              0.27         0.36            20.7      0.045   \n",
       "1            6.3              0.30         0.34             1.6      0.049   \n",
       "2            8.1              0.28         0.40             6.9      0.050   \n",
       "3            7.2              0.23         0.32             8.5      0.058   \n",
       "4            7.2              0.23         0.32             8.5      0.058   \n",
       "\n",
       "   free sulfur dioxide  total sulfur dioxide  density    pH  sulphates  \\\n",
       "0                 45.0                 170.0   1.0010  3.00       0.45   \n",
       "1                 14.0                 132.0   0.9940  3.30       0.49   \n",
       "2                 30.0                  97.0   0.9951  3.26       0.44   \n",
       "3                 47.0                 186.0   0.9956  3.19       0.40   \n",
       "4                 47.0                 186.0   0.9956  3.19       0.40   \n",
       "\n",
       "   alcohol  quality  \n",
       "0      8.8        6  \n",
       "1      9.5        6  \n",
       "2     10.1        6  \n",
       "3      9.9        6  \n",
       "4      9.9        6  "
      ]
     },
     "execution_count": 4,
     "metadata": {},
     "output_type": "execute_result"
    }
   ],
   "source": [
    "# Take a brief look at the data\n",
    "\n",
    "data.head()"
   ]
  },
  {
   "cell_type": "code",
   "execution_count": 5,
   "id": "0815b03f",
   "metadata": {},
   "outputs": [
    {
     "data": {
      "text/plain": [
       "(4898, 12)"
      ]
     },
     "execution_count": 5,
     "metadata": {},
     "output_type": "execute_result"
    }
   ],
   "source": [
    "# Get the dimensions of the dataframe\n",
    "\n",
    "data.shape"
   ]
  },
  {
   "cell_type": "code",
   "execution_count": 6,
   "id": "1673bc07",
   "metadata": {},
   "outputs": [
    {
     "data": {
      "text/plain": [
       "RangeIndex(start=0, stop=4898, step=1)"
      ]
     },
     "execution_count": 6,
     "metadata": {},
     "output_type": "execute_result"
    }
   ],
   "source": [
    "# Get the rows names of the dataframe\n",
    "\n",
    "data.index"
   ]
  },
  {
   "cell_type": "code",
   "execution_count": 7,
   "id": "b7066bb0",
   "metadata": {},
   "outputs": [
    {
     "data": {
      "text/plain": [
       "Index(['fixed acidity', 'volatile acidity', 'citric acid', 'residual sugar',\n",
       "       'chlorides', 'free sulfur dioxide', 'total sulfur dioxide', 'density',\n",
       "       'pH', 'sulphates', 'alcohol', 'quality'],\n",
       "      dtype='object')"
      ]
     },
     "execution_count": 7,
     "metadata": {},
     "output_type": "execute_result"
    }
   ],
   "source": [
    "# Get the columns names of the datafrme\n",
    "\n",
    "data.columns"
   ]
  },
  {
   "cell_type": "code",
   "execution_count": 8,
   "id": "b53df7ab",
   "metadata": {},
   "outputs": [
    {
     "name": "stdout",
     "output_type": "stream",
     "text": [
      "<class 'pandas.core.frame.DataFrame'>\n",
      "RangeIndex: 4898 entries, 0 to 4897\n",
      "Data columns (total 12 columns):\n",
      " #   Column                Non-Null Count  Dtype  \n",
      "---  ------                --------------  -----  \n",
      " 0   fixed acidity         4898 non-null   float64\n",
      " 1   volatile acidity      4898 non-null   float64\n",
      " 2   citric acid           4898 non-null   float64\n",
      " 3   residual sugar        4898 non-null   float64\n",
      " 4   chlorides             4898 non-null   float64\n",
      " 5   free sulfur dioxide   4898 non-null   float64\n",
      " 6   total sulfur dioxide  4898 non-null   float64\n",
      " 7   density               4898 non-null   float64\n",
      " 8   pH                    4898 non-null   float64\n",
      " 9   sulphates             4898 non-null   float64\n",
      " 10  alcohol               4898 non-null   float64\n",
      " 11  quality               4898 non-null   int64  \n",
      "dtypes: float64(11), int64(1)\n",
      "memory usage: 459.3 KB\n"
     ]
    }
   ],
   "source": [
    "# Look at basic information about the dataframe\n",
    "\n",
    "data.info()"
   ]
  },
  {
   "cell_type": "markdown",
   "id": "98617eb6",
   "metadata": {},
   "source": [
    "## Observations from Task 1"
   ]
  },
  {
   "cell_type": "markdown",
   "id": "bf386ba8",
   "metadata": {},
   "source": [
    "There are 4898 rows and 12 columns in the data. Each row contains the detials of the type of acids present in white-wine and the quality"
   ]
  },
  {
   "cell_type": "markdown",
   "id": "a5416b26",
   "metadata": {},
   "source": [
    "The features in the data set are:"
   ]
  },
  {
   "cell_type": "markdown",
   "id": "09c6f516",
   "metadata": {},
   "source": [
    "- Different acids and their Quality"
   ]
  },
  {
   "cell_type": "markdown",
   "id": "2f89bc0a",
   "metadata": {},
   "source": [
    "## Task 2 - View the distributions of various features in the data set and calculate their central tendencies"
   ]
  },
  {
   "cell_type": "markdown",
   "id": "bede4022",
   "metadata": {},
   "source": [
    "We will now look at the distributions of the various features in the data set"
   ]
  },
  {
   "cell_type": "markdown",
   "id": "a28906c9",
   "metadata": {},
   "source": [
    "We will also calculate appropriate measures of central tendency for these features"
   ]
  },
  {
   "cell_type": "code",
   "execution_count": 9,
   "id": "c8999808",
   "metadata": {},
   "outputs": [
    {
     "data": {
      "image/png": "[encoded data removed]",
      "text/plain": [
       "<Figure size 1100x600 with 1 Axes>"
      ]
     },
     "metadata": {},
     "output_type": "display_data"
    }
   ],
   "source": [
    "# Create a histogram of the \"Fixed acidity\" feature\n",
    "\n",
    "plt.figure(figsize=(11,6))\n",
    "\n",
    "sns.histplot( data = data, x = 'fixed acidity', color = 'orange',\n",
    "            edgecolor = 'linen', alpha = 0.5, bins = 5)\n",
    "plt.title(\"Histogram of Fixed Acidity\")\n",
    "plt.xlabel(\"Fixed Acidity\")\n",
    "plt.ylabel(\"Count\")\n",
    "plt.show()\n"
   ]
  },
  {
   "cell_type": "markdown",
   "id": "aeede0e0",
   "metadata": {},
   "source": [
    "Observations"
   ]
  },
  {
   "cell_type": "markdown",
   "id": "59444287",
   "metadata": {},
   "source": [
    "We observe that the histogram is normally distributed"
   ]
  },
  {
   "cell_type": "markdown",
   "id": "ff55666b",
   "metadata": {},
   "source": [
    "The maximum count of values for fixed lines in between 6 to 8"
   ]
  },
  {
   "cell_type": "markdown",
   "id": "2245a948",
   "metadata": {},
   "source": [
    "Let's see the measures of central tendency in working!"
   ]
  },
  {
   "cell_type": "markdown",
   "id": "a5f191ae",
   "metadata": {},
   "source": [
    "1. Mean"
   ]
  },
  {
   "cell_type": "markdown",
   "id": "4fcf978b",
   "metadata": {},
   "source": [
    "2. Median"
   ]
  },
  {
   "cell_type": "markdown",
   "id": "e563363d",
   "metadata": {},
   "source": [
    "3. Mode"
   ]
  },
  {
   "cell_type": "code",
   "execution_count": 10,
   "id": "882867c6",
   "metadata": {},
   "outputs": [
    {
     "data": {
      "text/plain": [
       "np.float64(6.85)"
      ]
     },
     "execution_count": 10,
     "metadata": {},
     "output_type": "execute_result"
    }
   ],
   "source": [
    "# Calculate the mean of \"fixed acidity\" feature\n",
    "\n",
    "round(data['fixed acidity'].mean(),2)"
   ]
  },
  {
   "cell_type": "code",
   "execution_count": 11,
   "id": "a07dd96a",
   "metadata": {},
   "outputs": [
    {
     "data": {
      "text/plain": [
       "np.float64(6.8)"
      ]
     },
     "execution_count": 11,
     "metadata": {},
     "output_type": "execute_result"
    }
   ],
   "source": [
    "# Calculate the median of \"fixed acidity\" feature\n",
    "\n",
    "data['fixed acidity'].median()"
   ]
  },
  {
   "cell_type": "code",
   "execution_count": 12,
   "id": "8dca7022",
   "metadata": {},
   "outputs": [
    {
     "data": {
      "image/png": "[encoded data removed]",
      "text/plain": [
       "<Figure size 1100x600 with 1 Axes>"
      ]
     },
     "metadata": {},
     "output_type": "display_data"
    }
   ],
   "source": [
    "# Create a histogram of the \"fixed acidity\" feature and also show the mean and median\n",
    "\n",
    "plt.figure(figsize=(11,6))\n",
    "\n",
    "sns.histplot(data = data, x = 'fixed acidity', color = 'orange',\n",
    "             edgecolor = 'linen', alpha = 0.5, bins = 5)\n",
    "plt.title(\"Histogram of Fixed Acidity\")\n",
    "plt.xlabel(\"Fixed Acidity\")\n",
    "plt.ylabel(\"Count\")\n",
    "plt.vlines(data['fixed acidity'].mean(), ymin = 0, ymax = 4000, colors='blue',label='Mean')\n",
    "plt.vlines(data['fixed acidity'].median(), ymin=0, ymax = 4000, colors=\"red\",label=\"Median\")\n",
    "plt.legend()\n",
    "plt.show()"
   ]
  },
  {
   "cell_type": "markdown",
   "id": "09c499cd",
   "metadata": {},
   "source": [
    "Observations"
   ]
  },
  {
   "cell_type": "markdown",
   "id": "f560c24b",
   "metadata": {},
   "source": [
    "We can see that mean and median are clear representative of the data"
   ]
  },
  {
   "cell_type": "markdown",
   "id": "db154f43",
   "metadata": {},
   "source": [
    "Mean and Median are very close to each other"
   ]
  },
  {
   "cell_type": "markdown",
   "id": "e87dc421",
   "metadata": {},
   "source": [
    "We can choose either of the parameters say the measure of central tendency"
   ]
  },
  {
   "cell_type": "code",
   "execution_count": 13,
   "id": "4945882f",
   "metadata": {},
   "outputs": [
    {
     "data": {
      "image/png": "[encoded data removed]",
      "text/plain": [
       "<Figure size 1100x600 with 1 Axes>"
      ]
     },
     "metadata": {},
     "output_type": "display_data"
    }
   ],
   "source": [
    "# Create a histogram of the \"volatile acidity\" feature\n",
    "\n",
    "plt.figure(figsize=(11,6))\n",
    "\n",
    "sns.histplot(data = data, x = \"volatile acidity\",color = \"green\",\n",
    "             edgecolor = \"linen\", alpha = 0.5, bins = 5)\n",
    "plt.title(\"Histogram of Volatile acidity\")\n",
    "plt.xlabel(\"Volatile Acidity\")\n",
    "plt.ylabel(\"Count\")\n",
    "plt.show()"
   ]
  },
  {
   "cell_type": "markdown",
   "id": "f41c665f",
   "metadata": {},
   "source": [
    "Observation"
   ]
  },
  {
   "cell_type": "markdown",
   "id": "7a956364",
   "metadata": {},
   "source": [
    "We observe that the histogram is not well distributed, it is skeword a little towards the right"
   ]
  },
  {
   "cell_type": "markdown",
   "id": "ea8b83a4",
   "metadata": {},
   "source": [
    "As we have seen skewness, therefore we can check the distribution using distplot function"
   ]
  },
  {
   "cell_type": "code",
   "execution_count": 14,
   "id": "30779b01",
   "metadata": {},
   "outputs": [
    {
     "name": "stderr",
     "output_type": "stream",
     "text": [
      "C:\\Users\\Shivam\\AppData\\Local\\Temp\\ipykernel_12704\\3605427777.py:5: UserWarning: \n",
      "\n",
      "`distplot` is a deprecated function and will be removed in seaborn v0.14.0.\n",
      "\n",
      "Please adapt your code to use either `displot` (a figure-level function with\n",
      "similar flexibility) or `histplot` (an axes-level function for histograms).\n",
      "\n",
      "For a guide to updating your code to use the new functions, please see\n",
      "https://gist.github.com/mwaskom/de44147ed2974457ad6372750bbe5751\n",
      "\n",
      "  sns.distplot(data['volatile acidity'], color = \"blue\")\n"
     ]
    },
    {
     "data": {
      "image/png": "[encoded data removed]",
      "text/plain": [
       "<Figure size 1100x600 with 1 Axes>"
      ]
     },
     "metadata": {},
     "output_type": "display_data"
    }
   ],
   "source": [
    "# Plot distplot using \"votatile acidity\" feature\n",
    "\n",
    "plt.figure(figsize=(11,6))\n",
    "\n",
    "sns.distplot(data['volatile acidity'], color = \"blue\")\n",
    "plt.title(\"Distplot of Volatile Acidity\")\n",
    "plt.xlabel(\"Volatile Acidity\")\n",
    "plt.ylabel(\"Density\")\n",
    "plt.show()"
   ]
  },
  {
   "cell_type": "markdown",
   "id": "5c4ec3a6",
   "metadata": {},
   "source": [
    "Observation:"
   ]
  },
  {
   "cell_type": "markdown",
   "id": "b39d42d7",
   "metadata": {},
   "source": [
    "The above plot shows the normal distribution"
   ]
  },
  {
   "cell_type": "markdown",
   "id": "56009b6e",
   "metadata": {},
   "source": [
    "The normal distribution is described by the mean and the standard deviation"
   ]
  },
  {
   "cell_type": "markdown",
   "id": "148ee801",
   "metadata": {},
   "source": [
    "The normal distribution is often reffered to as a \"bell curve\" because of it's shape:"
   ]
  },
  {
   "cell_type": "markdown",
   "id": "2977f53b",
   "metadata": {},
   "source": [
    "- The median and mean are equal"
   ]
  },
  {
   "cell_type": "markdown",
   "id": "307d9cb7",
   "metadata": {},
   "source": [
    "- It has only one mode"
   ]
  },
  {
   "cell_type": "markdown",
   "id": "4f43fecf",
   "metadata": {},
   "source": [
    "- It is symmetric, meaning it decreases the same amount on the left and the right of the centre"
   ]
  },
  {
   "cell_type": "markdown",
   "id": "128736ce",
   "metadata": {},
   "source": [
    "We can calculate skewness too using skew() function in python"
   ]
  },
  {
   "cell_type": "code",
   "execution_count": 15,
   "id": "f0c27ee3",
   "metadata": {},
   "outputs": [
    {
     "data": {
      "text/plain": [
       "np.float64(1.5769795029952025)"
      ]
     },
     "execution_count": 15,
     "metadata": {},
     "output_type": "execute_result"
    }
   ],
   "source": [
    "# Calculate skewness of the \"volatile acidity\"\n",
    "\n",
    "data['volatile acidity'].skew()"
   ]
  },
  {
   "cell_type": "markdown",
   "id": "c2381225",
   "metadata": {},
   "source": [
    "Observation:"
   ]
  },
  {
   "cell_type": "markdown",
   "id": "47a08ed5",
   "metadata": {},
   "source": [
    "We can clearly see that the skewness value is greater than 0, hence it is positively skewed"
   ]
  },
  {
   "cell_type": "code",
   "execution_count": 16,
   "id": "639f466d",
   "metadata": {},
   "outputs": [
    {
     "data": {
      "text/plain": [
       "np.float64(0.27824111882400976)"
      ]
     },
     "execution_count": 16,
     "metadata": {},
     "output_type": "execute_result"
    }
   ],
   "source": [
    "# Calculate the mean of \"volatile acidity\"\n",
    "\n",
    "data['volatile acidity'].mean()"
   ]
  },
  {
   "cell_type": "code",
   "execution_count": 17,
   "id": "2f78fcf0",
   "metadata": {},
   "outputs": [
    {
     "data": {
      "text/plain": [
       "np.float64(0.26)"
      ]
     },
     "execution_count": 17,
     "metadata": {},
     "output_type": "execute_result"
    }
   ],
   "source": [
    "# Calculate the median of \"volatile aacidity\"\n",
    "\n",
    "data['volatile acidity'].median()"
   ]
  },
  {
   "cell_type": "code",
   "execution_count": 18,
   "id": "b75a14d6",
   "metadata": {},
   "outputs": [
    {
     "data": {
      "image/png": "[encoded data removed]",
      "text/plain": [
       "<Figure size 1100x600 with 1 Axes>"
      ]
     },
     "metadata": {},
     "output_type": "display_data"
    }
   ],
   "source": [
    "# Create the histogram of the \"volatile acidity\" feature and also show the mean and median\n",
    "\n",
    "plt.figure(figsize=(11,6))\n",
    "\n",
    "sns.histplot(data = data, x = \"volatile acidity\", color = \"green\",\n",
    "             edgecolor = \"linen\", alpha = 0.5, bins = 5)\n",
    "\n",
    "plt.title(\"Histogram of Volatile Acidity\")\n",
    "plt.xlabel(\"Volatile Acidity\")\n",
    "plt.ylabel(\"Density\")\n",
    "plt.vlines(data['volatile acidity'].mean(), ymin = 0, ymax = 4000, colors=\"blue\",label=\"Mean\")\n",
    "plt.vlines(data['volatile acidity'].median(), ymin = 0, ymax = 4000, colors=\"red\", label=\"Median\")\n",
    "plt.legend()\n",
    "plt.show()"
   ]
  },
  {
   "cell_type": "markdown",
   "id": "12dabba9",
   "metadata": {},
   "source": [
    "Observations"
   ]
  },
  {
   "cell_type": "markdown",
   "id": "1cc4e34e",
   "metadata": {},
   "source": [
    "The mean and the median are closeto each other and the difference between them is very small."
   ]
  },
  {
   "cell_type": "markdown",
   "id": "333fe97c",
   "metadata": {},
   "source": [
    "We can safely choose the mean as the measure of the central tendency here."
   ]
  },
  {
   "cell_type": "code",
   "execution_count": 19,
   "id": "30136bd5",
   "metadata": {},
   "outputs": [
    {
     "data": {
      "image/png": "[encoded data removed]",
      "text/plain": [
       "<Figure size 1100x600 with 1 Axes>"
      ]
     },
     "metadata": {},
     "output_type": "display_data"
    }
   ],
   "source": [
    "# Create a histogram of the \"citric acid\" feature\n",
    "\n",
    "plt.figure(figsize=(11,6))\n",
    "\n",
    "sns.histplot(data = data, x = \"citric acid\", color = \"red\",\n",
    "             edgecolor = 'linen', alpha = 0.5, bins = 5)\n",
    "plt.title(\"Histogram of Citric Acid\")\n",
    "plt.xlabel(\"Citric Acid\")\n",
    "plt.ylabel(\"Count\")\n",
    "plt.show()\n"
   ]
  },
  {
   "cell_type": "markdown",
   "id": "cd1301bd",
   "metadata": {},
   "source": [
    "Observation"
   ]
  },
  {
   "cell_type": "markdown",
   "id": "c4e964eb",
   "metadata": {},
   "source": [
    "We observe that this histogram is not well distributed, it is skewed a little towards the right"
   ]
  },
  {
   "cell_type": "code",
   "execution_count": 20,
   "id": "c13dfc5e",
   "metadata": {},
   "outputs": [
    {
     "name": "stderr",
     "output_type": "stream",
     "text": [
      "C:\\Users\\Shivam\\AppData\\Local\\Temp\\ipykernel_12704\\229870828.py:4: UserWarning: \n",
      "\n",
      "`distplot` is a deprecated function and will be removed in seaborn v0.14.0.\n",
      "\n",
      "Please adapt your code to use either `displot` (a figure-level function with\n",
      "similar flexibility) or `histplot` (an axes-level function for histograms).\n",
      "\n",
      "For a guide to updating your code to use the new functions, please see\n",
      "https://gist.github.com/mwaskom/de44147ed2974457ad6372750bbe5751\n",
      "\n",
      "  sns.distplot(data['citric acid'],color=\"blue\")\n"
     ]
    },
    {
     "data": {
      "image/png": "[encoded data removed]",
      "text/plain": [
       "<Figure size 1100x600 with 1 Axes>"
      ]
     },
     "metadata": {},
     "output_type": "display_data"
    }
   ],
   "source": [
    "#Calculate distplot using \"citric acid\" feature\n",
    "plt.figure(figsize=(11,6))\n",
    "\n",
    "sns.distplot(data['citric acid'],color=\"blue\")\n",
    "\n",
    "plt.title(\"Distplot of Citric Acid\")\n",
    "plt.xlabel(\"Citric Acid\")\n",
    "plt.ylabel(\"Density\")\n",
    "plt.show()"
   ]
  },
  {
   "cell_type": "markdown",
   "id": "d58f0a97",
   "metadata": {},
   "source": [
    "Same procedure we can follow for the other numerical columns to get the mean, median (parameters of central tendency)"
   ]
  },
  {
   "cell_type": "code",
   "execution_count": 21,
   "id": "2ae7d2b7",
   "metadata": {},
   "outputs": [
    {
     "data": {
      "text/plain": [
       "np.float64(0.33419150673744386)"
      ]
     },
     "execution_count": 21,
     "metadata": {},
     "output_type": "execute_result"
    }
   ],
   "source": [
    "# Calculate the mean of \"citric acid\" feature\n",
    "\n",
    "data['citric acid'].mean()"
   ]
  },
  {
   "cell_type": "code",
   "execution_count": 22,
   "id": "85d9c186",
   "metadata": {},
   "outputs": [
    {
     "data": {
      "text/plain": [
       "np.float64(0.32)"
      ]
     },
     "execution_count": 22,
     "metadata": {},
     "output_type": "execute_result"
    }
   ],
   "source": [
    "# Calculate the median of \"citric acid\" feature\n",
    "\n",
    "data['citric acid'].median()"
   ]
  },
  {
   "cell_type": "code",
   "execution_count": 23,
   "id": "38b9e983",
   "metadata": {},
   "outputs": [
    {
     "data": {
      "image/png": "[encoded data removed]",
      "text/plain": [
       "<Figure size 1100x600 with 1 Axes>"
      ]
     },
     "metadata": {},
     "output_type": "display_data"
    }
   ],
   "source": [
    "#Create the histogram of the \"citric acid\" and also show the mean ant the median\n",
    "\n",
    "plt.figure(figsize=(11,6))\n",
    "\n",
    "sns.histplot(data = data, x = 'citric acid', color = 'red',\n",
    "             edgecolor = 'linen', alpha = 0.5, bins = 5)\n",
    "plt.title(\"Histogram of Citric Acid\")\n",
    "plt.xlabel(\"Citric Acid\")\n",
    "plt.ylabel(\"Count\")\n",
    "plt.vlines(data['citric acid'].mean(),ymin = 0, ymax = 4000, colors=\"blue\",label=\"Mean\")\n",
    "plt.vlines(data['citric acid'].median(),ymin = 0, ymax = 4000, colors=\"green\", label=\"Median\")\n",
    "plt.legend()\n",
    "plt.show()"
   ]
  },
  {
   "cell_type": "markdown",
   "id": "6e1d4dfb",
   "metadata": {},
   "source": [
    "Observation"
   ]
  },
  {
   "cell_type": "markdown",
   "id": "fad248c1",
   "metadata": {},
   "source": [
    "The mean and the median are close to ech other and the difference between them is very small"
   ]
  },
  {
   "cell_type": "markdown",
   "id": "8755450b",
   "metadata": {},
   "source": [
    "We can safely choose the mean as the measure of the central tendency"
   ]
  },
  {
   "cell_type": "code",
   "execution_count": 27,
   "id": "632f4af3",
   "metadata": {},
   "outputs": [
    {
     "data": {
      "image/png": "[encoded data removed]",
      "text/plain": [
       "<Figure size 1100x600 with 1 Axes>"
      ]
     },
     "metadata": {},
     "output_type": "display_data"
    }
   ],
   "source": [
    "# Create a count plot of the \"Quality\" feature\n",
    "\n",
    "plt.figure(figsize=(11,6))\n",
    "\n",
    "sns.countplot(data=data, x=\"quality\")\n",
    "\n",
    "plt.title(\"Count Plot of Quality\")\n",
    "plt.xlabel(\"Quality\")\n",
    "plt.ylabel(\"Count\")\n",
    "plt.show()"
   ]
  },
  {
   "cell_type": "markdown",
   "id": "4550007d",
   "metadata": {},
   "source": [
    "Observation"
   ]
  },
  {
   "cell_type": "markdown",
   "id": "a0907fe6",
   "metadata": {},
   "source": [
    "It it is clear from the count plot that the 6 is the highest count of quality, whereas 9 is negligible"
   ]
  },
  {
   "cell_type": "code",
   "execution_count": 28,
   "id": "27373c0d",
   "metadata": {},
   "outputs": [
    {
     "data": {
      "text/plain": [
       "quality\n",
       "6    2198\n",
       "5    1457\n",
       "7     880\n",
       "8     175\n",
       "4     163\n",
       "3      20\n",
       "9       5\n",
       "Name: count, dtype: int64"
      ]
     },
     "execution_count": 28,
     "metadata": {},
     "output_type": "execute_result"
    }
   ],
   "source": [
    "# Count the number of occurance of different categories of the \"Quality\" feature\n",
    "\n",
    "data['quality'].value_counts()"
   ]
  },
  {
   "cell_type": "code",
   "execution_count": 29,
   "id": "673d1555",
   "metadata": {},
   "outputs": [
    {
     "data": {
      "text/plain": [
       "np.int64(6)"
      ]
     },
     "execution_count": 29,
     "metadata": {},
     "output_type": "execute_result"
    }
   ],
   "source": [
    "# Claculate the mode of the \"Quality\" feature\n",
    "\n",
    "data['quality'].value_counts().index[0]"
   ]
  },
  {
   "cell_type": "markdown",
   "id": "3d2af01c",
   "metadata": {},
   "source": [
    "## Observation from Task 2"
   ]
  },
  {
   "cell_type": "markdown",
   "id": "e485b9f8",
   "metadata": {},
   "source": [
    "We saw the distributions of the various features in the data set using appropriate plots"
   ]
  },
  {
   "cell_type": "markdown",
   "id": "6550ce41",
   "metadata": {},
   "source": [
    "We calculate central tendency measures like mean, median and mode for thr various features"
   ]
  },
  {
   "cell_type": "markdown",
   "id": "9ff32ba3",
   "metadata": {},
   "source": [
    "The mean and the median for all the above features were similar, so we can choose the mean in these cases"
   ]
  },
  {
   "cell_type": "markdown",
   "id": "b3a57a3c",
   "metadata": {},
   "source": [
    "The mode of the \"Quality\" feature can be chosen as a representative value"
   ]
  },
  {
   "cell_type": "markdown",
   "id": "d3a95824",
   "metadata": {},
   "source": [
    "## Task 3 - Create a new Pandas Series that contains the details of the acid type for a quality"
   ]
  },
  {
   "cell_type": "markdown",
   "id": "705acc5d",
   "metadata": {},
   "source": [
    "We will now create a Pandas Series that contains the representative values for each of the features"
   ]
  },
  {
   "cell_type": "code",
   "execution_count": 30,
   "id": "6af020db",
   "metadata": {},
   "outputs": [],
   "source": [
    "#Create a new Pandas Series calles \"rep_acid\" that contains the details of the representative quality for the different tpes of acids\n",
    "\n",
    "rep_acid = pd.Series(index = [\"fixed acidity\",\"volatile acidity\",\"citric acid\",\"quality\"],\n",
    "                     data = [data['fixed acidity'].mean(),data['volatile acidity'].mean(),\n",
    "                             data['citric acid'].mean(),data['quality'].value_counts().index[0]])\n"
   ]
  },
  {
   "cell_type": "code",
   "execution_count": 31,
   "id": "2a992ab9",
   "metadata": {},
   "outputs": [
    {
     "data": {
      "text/plain": [
       "fixed acidity       6.854788\n",
       "volatile acidity    0.278241\n",
       "citric acid         0.334192\n",
       "quality             6.000000\n",
       "dtype: float64"
      ]
     },
     "execution_count": 31,
     "metadata": {},
     "output_type": "execute_result"
    }
   ],
   "source": [
    "#Print the \"rep_acid\" series\n",
    "rep_acid"
   ]
  },
  {
   "cell_type": "markdown",
   "id": "ee49af9f",
   "metadata": {},
   "source": [
    "## Observations from Task 3"
   ]
  },
  {
   "cell_type": "markdown",
   "id": "d2f1c6cd",
   "metadata": {},
   "source": [
    "1. The representative acid for the quality is as follows:"
   ]
  },
  {
   "cell_type": "markdown",
   "id": "cb98c648",
   "metadata": {},
   "source": [
    "- The mean value of the fixed acidity would be 6.854"
   ]
  },
  {
   "cell_type": "markdown",
   "id": "e2c41ea1",
   "metadata": {},
   "source": [
    "- The mean value of the volatile acidity would be 0.2782 "
   ]
  },
  {
   "cell_type": "markdown",
   "id": "32cbde10",
   "metadata": {},
   "source": [
    "- The meann value of the citric acid would be 0.3341"
   ]
  },
  {
   "cell_type": "markdown",
   "id": "d793f4b8",
   "metadata": {},
   "source": [
    "- The quality would be 6"
   ]
  },
  {
   "cell_type": "markdown",
   "id": "d340a225",
   "metadata": {},
   "source": [
    "## Final Conclusions"
   ]
  },
  {
   "cell_type": "markdown",
   "id": "e9e1209b",
   "metadata": {},
   "source": [
    "- From the given data, we can use simple visualisation to get a sense of how data are distributed."
   ]
  },
  {
   "cell_type": "markdown",
   "id": "da7d60a5",
   "metadata": {},
   "source": [
    "- We can use various measures of central tendency such as mean, median and mode to represent a group of observations."
   ]
  },
  {
   "cell_type": "markdown",
   "id": "2894b476",
   "metadata": {},
   "source": [
    "- The type of central tendency measure to use depends on the type and the distribution of the data."
   ]
  },
  {
   "cell_type": "code",
   "execution_count": null,
   "id": "a1f8a379",
   "metadata": {},
   "outputs": [],
   "source": []
  }
 ],
 "metadata": {
  "kernelspec": {
   "display_name": "Python 3",
   "language": "python",
   "name": "python3"
  },
  "language_info": {
   "codemirror_mode": {
    "name": "ipython",
    "version": 3
   },
   "file_extension": ".py",
   "mimetype": "text/x-python",
   "name": "python",
   "nbconvert_exporter": "python",
   "pygments_lexer": "ipython3",
   "version": "3.12.10"
  }
 },
 "nbformat": 4,
 "nbformat_minor": 5
}
